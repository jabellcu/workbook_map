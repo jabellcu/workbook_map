{
 "cells": [
  {
   "cell_type": "markdown",
   "metadata": {},
   "source": [
    "This notebook explores an alternative approach to produce the workbook map formulas (relationship between shpreadsheets).\n",
    "It assumes `Workbook_map.output_formulae` and `Workbook_map.output_names` subroutine have been ran in the target workbook (eg. Workbook_map_EXAMPLE.xlsm) to produce a file with all the workbook's formulas (eg. Workbook_map_EXAMPLE_formulas.tsv) and all the names used (e.g. Workbook_map_EXAMPLE_names.tsv)."
   ]
  },
  {
   "cell_type": "code",
   "execution_count": 1,
   "metadata": {},
   "outputs": [],
   "source": [
    "import pandas as pd\n",
    "from pathlib import Path\n",
    "import re"
   ]
  },
  {
   "cell_type": "code",
   "execution_count": 2,
   "metadata": {},
   "outputs": [],
   "source": [
    "from itertools import chain\n",
    "import collections"
   ]
  },
  {
   "cell_type": "code",
   "execution_count": 3,
   "metadata": {},
   "outputs": [],
   "source": [
    "formulas_sfp = Path('Workbook_map_EXAMPLE_formulas.tsv')\n",
    "names_sfp = Path('Workbook_map_EXAMPLE_names.tsv')"
   ]
  },
  {
   "cell_type": "code",
   "execution_count": 4,
   "metadata": {},
   "outputs": [],
   "source": [
    "formulas = pd.read_csv(formulas_sfp, sep='\\t')\n",
    "names = pd.read_csv(names_sfp, sep='\\t')"
   ]
  },
  {
   "cell_type": "code",
   "execution_count": 5,
   "metadata": {},
   "outputs": [],
   "source": [
    "# Ammend data to make it easier to find the sheet names\n",
    "formulas['cell_formula_fixed'] = formulas['cell_formula'].str.strip(\"'=\")\n",
    "names['range'] = names['range'].str.strip(\"'=\")\n",
    "\n",
    "for tup in names.itertuples():\n",
    "    name, rng = tup.name, tup.range\n",
    "    formulas['cell_formula_fixed'] = formulas['cell_formula_fixed'].str.replace(name, rng)"
   ]
  },
  {
   "cell_type": "code",
   "execution_count": 6,
   "metadata": {},
   "outputs": [
    {
     "data": {
      "text/html": [
       "<div>\n",
       "<style scoped>\n",
       "    .dataframe tbody tr th:only-of-type {\n",
       "        vertical-align: middle;\n",
       "    }\n",
       "\n",
       "    .dataframe tbody tr th {\n",
       "        vertical-align: top;\n",
       "    }\n",
       "\n",
       "    .dataframe thead th {\n",
       "        text-align: right;\n",
       "    }\n",
       "</style>\n",
       "<table border=\"1\" class=\"dataframe\">\n",
       "  <thead>\n",
       "    <tr style=\"text-align: right;\">\n",
       "      <th></th>\n",
       "      <th>sheet_name</th>\n",
       "      <th>cell_address</th>\n",
       "      <th>cell_formula</th>\n",
       "      <th>cell_formula_fixed</th>\n",
       "    </tr>\n",
       "  </thead>\n",
       "  <tbody>\n",
       "    <tr>\n",
       "      <th>0</th>\n",
       "      <td>CALC_A_1</td>\n",
       "      <td>C3</td>\n",
       "      <td>'=INPUT1!C3</td>\n",
       "      <td>INPUT1!C3</td>\n",
       "    </tr>\n",
       "    <tr>\n",
       "      <th>1</th>\n",
       "      <td>CALC_A_1</td>\n",
       "      <td>C4</td>\n",
       "      <td>'=INPUT1!C4</td>\n",
       "      <td>INPUT1!C4</td>\n",
       "    </tr>\n",
       "    <tr>\n",
       "      <th>2</th>\n",
       "      <td>CALC_A_1</td>\n",
       "      <td>C5</td>\n",
       "      <td>'=INPUT1!C5</td>\n",
       "      <td>INPUT1!C5</td>\n",
       "    </tr>\n",
       "    <tr>\n",
       "      <th>3</th>\n",
       "      <td>CALC_A_1</td>\n",
       "      <td>C6</td>\n",
       "      <td>'=INPUT1!C6</td>\n",
       "      <td>INPUT1!C6</td>\n",
       "    </tr>\n",
       "    <tr>\n",
       "      <th>4</th>\n",
       "      <td>CALC_A_1</td>\n",
       "      <td>C7</td>\n",
       "      <td>'=INPUT1!C7</td>\n",
       "      <td>INPUT1!C7</td>\n",
       "    </tr>\n",
       "  </tbody>\n",
       "</table>\n",
       "</div>"
      ],
      "text/plain": [
       "  sheet_name cell_address cell_formula cell_formula_fixed\n",
       "0   CALC_A_1           C3  '=INPUT1!C3          INPUT1!C3\n",
       "1   CALC_A_1           C4  '=INPUT1!C4          INPUT1!C4\n",
       "2   CALC_A_1           C5  '=INPUT1!C5          INPUT1!C5\n",
       "3   CALC_A_1           C6  '=INPUT1!C6          INPUT1!C6\n",
       "4   CALC_A_1           C7  '=INPUT1!C7          INPUT1!C7"
      ]
     },
     "execution_count": 6,
     "metadata": {},
     "output_type": "execute_result"
    }
   ],
   "source": [
    "formulas.head()"
   ]
  },
  {
   "cell_type": "code",
   "execution_count": 7,
   "metadata": {},
   "outputs": [
    {
     "data": {
      "text/html": [
       "<div>\n",
       "<style scoped>\n",
       "    .dataframe tbody tr th:only-of-type {\n",
       "        vertical-align: middle;\n",
       "    }\n",
       "\n",
       "    .dataframe tbody tr th {\n",
       "        vertical-align: top;\n",
       "    }\n",
       "\n",
       "    .dataframe thead th {\n",
       "        text-align: right;\n",
       "    }\n",
       "</style>\n",
       "<table border=\"1\" class=\"dataframe\">\n",
       "  <thead>\n",
       "    <tr style=\"text-align: right;\">\n",
       "      <th></th>\n",
       "      <th>name</th>\n",
       "      <th>range</th>\n",
       "    </tr>\n",
       "  </thead>\n",
       "  <tbody>\n",
       "    <tr>\n",
       "      <th>0</th>\n",
       "      <td>_xlfn.STDEV.P</td>\n",
       "      <td>#NAME?</td>\n",
       "    </tr>\n",
       "    <tr>\n",
       "      <th>1</th>\n",
       "      <td>_xlfn.SUMIFS</td>\n",
       "      <td>#NAME?</td>\n",
       "    </tr>\n",
       "  </tbody>\n",
       "</table>\n",
       "</div>"
      ],
      "text/plain": [
       "            name   range\n",
       "0  _xlfn.STDEV.P  #NAME?\n",
       "1   _xlfn.SUMIFS  #NAME?"
      ]
     },
     "execution_count": 7,
     "metadata": {},
     "output_type": "execute_result"
    }
   ],
   "source": [
    "names.head()"
   ]
  },
  {
   "cell_type": "code",
   "execution_count": 8,
   "metadata": {},
   "outputs": [],
   "source": [
    "# Find sheet names before an exclamation mark, either enclosed in single\n",
    "# quotes, or not containing certain characters\n",
    "sheetname_pat = r\"\"\"(?:'.+?'|\\b[^:,/\\*\\-+ =&<>\\[\\]\"\\(\\)!]+?)(?=!)\"\"\""
   ]
  },
  {
   "cell_type": "code",
   "execution_count": 9,
   "metadata": {},
   "outputs": [],
   "source": [
    "sheetname_re = re.compile(sheetname_pat)"
   ]
  },
  {
   "cell_type": "code",
   "execution_count": 10,
   "metadata": {},
   "outputs": [
    {
     "data": {
      "text/html": [
       "<div>\n",
       "<style scoped>\n",
       "    .dataframe tbody tr th:only-of-type {\n",
       "        vertical-align: middle;\n",
       "    }\n",
       "\n",
       "    .dataframe tbody tr th {\n",
       "        vertical-align: top;\n",
       "    }\n",
       "\n",
       "    .dataframe thead th {\n",
       "        text-align: right;\n",
       "    }\n",
       "</style>\n",
       "<table border=\"1\" class=\"dataframe\">\n",
       "  <thead>\n",
       "    <tr style=\"text-align: right;\">\n",
       "      <th></th>\n",
       "      <th>sheet_name</th>\n",
       "      <th>cell_address</th>\n",
       "      <th>cell_formula</th>\n",
       "      <th>cell_formula_fixed</th>\n",
       "    </tr>\n",
       "  </thead>\n",
       "  <tbody>\n",
       "    <tr>\n",
       "      <th>0</th>\n",
       "      <td>CALC_A_1</td>\n",
       "      <td>C3</td>\n",
       "      <td>'=INPUT1!C3</td>\n",
       "      <td>INPUT1!C3</td>\n",
       "    </tr>\n",
       "    <tr>\n",
       "      <th>1</th>\n",
       "      <td>CALC_A_1</td>\n",
       "      <td>C4</td>\n",
       "      <td>'=INPUT1!C4</td>\n",
       "      <td>INPUT1!C4</td>\n",
       "    </tr>\n",
       "    <tr>\n",
       "      <th>2</th>\n",
       "      <td>CALC_A_1</td>\n",
       "      <td>C5</td>\n",
       "      <td>'=INPUT1!C5</td>\n",
       "      <td>INPUT1!C5</td>\n",
       "    </tr>\n",
       "    <tr>\n",
       "      <th>3</th>\n",
       "      <td>CALC_A_1</td>\n",
       "      <td>C6</td>\n",
       "      <td>'=INPUT1!C6</td>\n",
       "      <td>INPUT1!C6</td>\n",
       "    </tr>\n",
       "    <tr>\n",
       "      <th>4</th>\n",
       "      <td>CALC_A_1</td>\n",
       "      <td>C7</td>\n",
       "      <td>'=INPUT1!C7</td>\n",
       "      <td>INPUT1!C7</td>\n",
       "    </tr>\n",
       "  </tbody>\n",
       "</table>\n",
       "</div>"
      ],
      "text/plain": [
       "  sheet_name cell_address cell_formula cell_formula_fixed\n",
       "0   CALC_A_1           C3  '=INPUT1!C3          INPUT1!C3\n",
       "1   CALC_A_1           C4  '=INPUT1!C4          INPUT1!C4\n",
       "2   CALC_A_1           C5  '=INPUT1!C5          INPUT1!C5\n",
       "3   CALC_A_1           C6  '=INPUT1!C6          INPUT1!C6\n",
       "4   CALC_A_1           C7  '=INPUT1!C7          INPUT1!C7"
      ]
     },
     "execution_count": 10,
     "metadata": {},
     "output_type": "execute_result"
    }
   ],
   "source": [
    "formulas.head()"
   ]
  },
  {
   "cell_type": "code",
   "execution_count": 11,
   "metadata": {
    "scrolled": true
   },
   "outputs": [],
   "source": [
    "precedent_sheets = formulas['cell_formula_fixed'].map(sheetname_re.findall)"
   ]
  },
  {
   "cell_type": "code",
   "execution_count": 12,
   "metadata": {},
   "outputs": [
    {
     "data": {
      "text/plain": [
       "0    [INPUT1]\n",
       "1    [INPUT1]\n",
       "2    [INPUT1]\n",
       "3    [INPUT1]\n",
       "4    [INPUT1]\n",
       "Name: cell_formula_fixed, dtype: object"
      ]
     },
     "execution_count": 12,
     "metadata": {},
     "output_type": "execute_result"
    }
   ],
   "source": [
    "precedent_sheets.head()"
   ]
  },
  {
   "cell_type": "code",
   "execution_count": 13,
   "metadata": {},
   "outputs": [],
   "source": [
    "# Count the matched sheet names for each sheet\n",
    "precedent_sheets_count = precedent_sheets.groupby(formulas['sheet_name']).apply(lambda S: collections.Counter(chain.from_iterable(S)))"
   ]
  },
  {
   "cell_type": "code",
   "execution_count": 14,
   "metadata": {},
   "outputs": [],
   "source": [
    "precedent_sheets_count.index.names = ['sheet_name', 'sheet_name_precedent']\n",
    "precedent_sheets_count = precedent_sheets_count.to_frame(name='count')"
   ]
  },
  {
   "cell_type": "code",
   "execution_count": 15,
   "metadata": {},
   "outputs": [
    {
     "data": {
      "text/html": [
       "<div>\n",
       "<style scoped>\n",
       "    .dataframe tbody tr th:only-of-type {\n",
       "        vertical-align: middle;\n",
       "    }\n",
       "\n",
       "    .dataframe tbody tr th {\n",
       "        vertical-align: top;\n",
       "    }\n",
       "\n",
       "    .dataframe thead th {\n",
       "        text-align: right;\n",
       "    }\n",
       "</style>\n",
       "<table border=\"1\" class=\"dataframe\">\n",
       "  <thead>\n",
       "    <tr style=\"text-align: right;\">\n",
       "      <th></th>\n",
       "      <th></th>\n",
       "      <th>count</th>\n",
       "    </tr>\n",
       "    <tr>\n",
       "      <th>sheet_name</th>\n",
       "      <th>sheet_name_precedent</th>\n",
       "      <th></th>\n",
       "    </tr>\n",
       "  </thead>\n",
       "  <tbody>\n",
       "    <tr>\n",
       "      <th>CALC_A_1</th>\n",
       "      <th>INPUT1</th>\n",
       "      <td>10.0</td>\n",
       "    </tr>\n",
       "    <tr>\n",
       "      <th rowspan=\"2\" valign=\"top\">CALC_A_2</th>\n",
       "      <th>INPUT1</th>\n",
       "      <td>10.0</td>\n",
       "    </tr>\n",
       "    <tr>\n",
       "      <th>INPUT2</th>\n",
       "      <td>10.0</td>\n",
       "    </tr>\n",
       "    <tr>\n",
       "      <th rowspan=\"2\" valign=\"top\">CALC_A_3</th>\n",
       "      <th>CALC_A_1</th>\n",
       "      <td>10.0</td>\n",
       "    </tr>\n",
       "    <tr>\n",
       "      <th>CALC_A_2</th>\n",
       "      <td>10.0</td>\n",
       "    </tr>\n",
       "  </tbody>\n",
       "</table>\n",
       "</div>"
      ],
      "text/plain": [
       "                                 count\n",
       "sheet_name sheet_name_precedent       \n",
       "CALC_A_1   INPUT1                 10.0\n",
       "CALC_A_2   INPUT1                 10.0\n",
       "           INPUT2                 10.0\n",
       "CALC_A_3   CALC_A_1               10.0\n",
       "           CALC_A_2               10.0"
      ]
     },
     "execution_count": 15,
     "metadata": {},
     "output_type": "execute_result"
    }
   ],
   "source": [
    "precedent_sheets_count.head()"
   ]
  },
  {
   "cell_type": "code",
   "execution_count": 16,
   "metadata": {},
   "outputs": [],
   "source": [
    "# output\n",
    "ofp = formulas_sfp.with_name(f'{formulas_sfp.stem}_count.csv')\n",
    "precedent_sheets_count.to_csv(ofp)"
   ]
  }
 ],
 "metadata": {
  "kernelspec": {
   "display_name": "Python 3",
   "language": "python",
   "name": "python3"
  },
  "language_info": {
   "codemirror_mode": {
    "name": "ipython",
    "version": 3
   },
   "file_extension": ".py",
   "mimetype": "text/x-python",
   "name": "python",
   "nbconvert_exporter": "python",
   "pygments_lexer": "ipython3",
   "version": "3.7.3"
  }
 },
 "nbformat": 4,
 "nbformat_minor": 2
}
