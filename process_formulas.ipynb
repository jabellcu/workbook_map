{
 "cells": [
  {
   "cell_type": "markdown",
   "metadata": {},
   "source": [
    "This notebook explores an alternative approach to produce the workbook map data (relationship between shpreadsheets).\n",
    "It assumes `Workbook_map.output_formulae` subroutine has run in the target workbook (eg. Workbook_map_EXAMPLE.xlsm) to produce a file with all the workbook's formulas (eg. Workbook_map_EXAMPLE_formulas.tsv)."
   ]
  },
  {
   "cell_type": "code",
   "execution_count": 1,
   "metadata": {},
   "outputs": [],
   "source": [
    "import pandas as pd\n",
    "from pathlib import Path\n",
    "import re"
   ]
  },
  {
   "cell_type": "code",
   "execution_count": 2,
   "metadata": {},
   "outputs": [],
   "source": [
    "from itertools import chain\n",
    "import collections"
   ]
  },
  {
   "cell_type": "code",
   "execution_count": 3,
   "metadata": {},
   "outputs": [],
   "source": [
    "sfp = Path('Workbook_map_EXAMPLE_formulas.tsv')"
   ]
  },
  {
   "cell_type": "code",
   "execution_count": 4,
   "metadata": {},
   "outputs": [],
   "source": [
    "data = pd.read_csv(sfp, sep='\\t')"
   ]
  },
  {
   "cell_type": "code",
   "execution_count": 5,
   "metadata": {},
   "outputs": [],
   "source": [
    "# Ammend formulas to make it easier to find the sheet names\n",
    "data['cell_formula_fixed'] = data['cell_formula'].str.strip(\"'=\")"
   ]
  },
  {
   "cell_type": "code",
   "execution_count": 6,
   "metadata": {},
   "outputs": [],
   "source": [
    "# Find sheet names before an exclamation mark, either enclosed in single\n",
    "# quotes, or not containing certain characters\n",
    "sheetname_pat = r\"\"\"(?:'.+?'|\\b[^:,/\\*\\-+ =&<>\\[\\]\"\\(\\)!]+?)(?=!)\"\"\""
   ]
  },
  {
   "cell_type": "code",
   "execution_count": 7,
   "metadata": {},
   "outputs": [],
   "source": [
    "sheetname_re = re.compile(sheetname_pat)"
   ]
  },
  {
   "cell_type": "code",
   "execution_count": 8,
   "metadata": {},
   "outputs": [
    {
     "data": {
      "text/html": [
       "<div>\n",
       "<style scoped>\n",
       "    .dataframe tbody tr th:only-of-type {\n",
       "        vertical-align: middle;\n",
       "    }\n",
       "\n",
       "    .dataframe tbody tr th {\n",
       "        vertical-align: top;\n",
       "    }\n",
       "\n",
       "    .dataframe thead th {\n",
       "        text-align: right;\n",
       "    }\n",
       "</style>\n",
       "<table border=\"1\" class=\"dataframe\">\n",
       "  <thead>\n",
       "    <tr style=\"text-align: right;\">\n",
       "      <th></th>\n",
       "      <th>sheet_name</th>\n",
       "      <th>cell_address</th>\n",
       "      <th>cell_formula</th>\n",
       "      <th>cell_formula_fixed</th>\n",
       "    </tr>\n",
       "  </thead>\n",
       "  <tbody>\n",
       "    <tr>\n",
       "      <th>0</th>\n",
       "      <td>CALC_A_1</td>\n",
       "      <td>C3</td>\n",
       "      <td>'=INPUT1!C3</td>\n",
       "      <td>INPUT1!C3</td>\n",
       "    </tr>\n",
       "    <tr>\n",
       "      <th>1</th>\n",
       "      <td>CALC_A_1</td>\n",
       "      <td>C4</td>\n",
       "      <td>'=INPUT1!C4</td>\n",
       "      <td>INPUT1!C4</td>\n",
       "    </tr>\n",
       "    <tr>\n",
       "      <th>2</th>\n",
       "      <td>CALC_A_1</td>\n",
       "      <td>C5</td>\n",
       "      <td>'=INPUT1!C5</td>\n",
       "      <td>INPUT1!C5</td>\n",
       "    </tr>\n",
       "    <tr>\n",
       "      <th>3</th>\n",
       "      <td>CALC_A_1</td>\n",
       "      <td>C6</td>\n",
       "      <td>'=INPUT1!C6</td>\n",
       "      <td>INPUT1!C6</td>\n",
       "    </tr>\n",
       "    <tr>\n",
       "      <th>4</th>\n",
       "      <td>CALC_A_1</td>\n",
       "      <td>C7</td>\n",
       "      <td>'=INPUT1!C7</td>\n",
       "      <td>INPUT1!C7</td>\n",
       "    </tr>\n",
       "  </tbody>\n",
       "</table>\n",
       "</div>"
      ],
      "text/plain": [
       "  sheet_name cell_address cell_formula cell_formula_fixed\n",
       "0   CALC_A_1           C3  '=INPUT1!C3          INPUT1!C3\n",
       "1   CALC_A_1           C4  '=INPUT1!C4          INPUT1!C4\n",
       "2   CALC_A_1           C5  '=INPUT1!C5          INPUT1!C5\n",
       "3   CALC_A_1           C6  '=INPUT1!C6          INPUT1!C6\n",
       "4   CALC_A_1           C7  '=INPUT1!C7          INPUT1!C7"
      ]
     },
     "execution_count": 8,
     "metadata": {},
     "output_type": "execute_result"
    }
   ],
   "source": [
    "data.head()"
   ]
  },
  {
   "cell_type": "code",
   "execution_count": 9,
   "metadata": {
    "scrolled": true
   },
   "outputs": [],
   "source": [
    "precedent_sheets = data['cell_formula_fixed'].map(sheetname_re.findall)"
   ]
  },
  {
   "cell_type": "code",
   "execution_count": 10,
   "metadata": {},
   "outputs": [
    {
     "data": {
      "text/plain": [
       "0    [INPUT1]\n",
       "1    [INPUT1]\n",
       "2    [INPUT1]\n",
       "3    [INPUT1]\n",
       "4    [INPUT1]\n",
       "Name: cell_formula_fixed, dtype: object"
      ]
     },
     "execution_count": 10,
     "metadata": {},
     "output_type": "execute_result"
    }
   ],
   "source": [
    "precedent_sheets.head()"
   ]
  },
  {
   "cell_type": "code",
   "execution_count": 11,
   "metadata": {},
   "outputs": [],
   "source": [
    "# Count the matched sheet names for each sheet\n",
    "precedent_sheets_count = precedent_sheets.groupby(data['sheet_name']).apply(lambda S: collections.Counter(chain.from_iterable(S)))"
   ]
  },
  {
   "cell_type": "code",
   "execution_count": 12,
   "metadata": {},
   "outputs": [],
   "source": [
    "precedent_sheets_count.index.names = ['sheet_name', 'sheet_name_precedent']\n",
    "precedent_sheets_count = precedent_sheets_count.to_frame(name='count')"
   ]
  },
  {
   "cell_type": "code",
   "execution_count": 13,
   "metadata": {},
   "outputs": [
    {
     "data": {
      "text/html": [
       "<div>\n",
       "<style scoped>\n",
       "    .dataframe tbody tr th:only-of-type {\n",
       "        vertical-align: middle;\n",
       "    }\n",
       "\n",
       "    .dataframe tbody tr th {\n",
       "        vertical-align: top;\n",
       "    }\n",
       "\n",
       "    .dataframe thead th {\n",
       "        text-align: right;\n",
       "    }\n",
       "</style>\n",
       "<table border=\"1\" class=\"dataframe\">\n",
       "  <thead>\n",
       "    <tr style=\"text-align: right;\">\n",
       "      <th></th>\n",
       "      <th></th>\n",
       "      <th>count</th>\n",
       "    </tr>\n",
       "    <tr>\n",
       "      <th>sheet_name</th>\n",
       "      <th>sheet_name_precedent</th>\n",
       "      <th></th>\n",
       "    </tr>\n",
       "  </thead>\n",
       "  <tbody>\n",
       "    <tr>\n",
       "      <th>CALC_A_1</th>\n",
       "      <th>INPUT1</th>\n",
       "      <td>10.0</td>\n",
       "    </tr>\n",
       "    <tr>\n",
       "      <th rowspan=\"2\" valign=\"top\">CALC_A_2</th>\n",
       "      <th>INPUT1</th>\n",
       "      <td>10.0</td>\n",
       "    </tr>\n",
       "    <tr>\n",
       "      <th>INPUT2</th>\n",
       "      <td>10.0</td>\n",
       "    </tr>\n",
       "    <tr>\n",
       "      <th rowspan=\"2\" valign=\"top\">CALC_A_3</th>\n",
       "      <th>CALC_A_1</th>\n",
       "      <td>10.0</td>\n",
       "    </tr>\n",
       "    <tr>\n",
       "      <th>CALC_A_2</th>\n",
       "      <td>10.0</td>\n",
       "    </tr>\n",
       "  </tbody>\n",
       "</table>\n",
       "</div>"
      ],
      "text/plain": [
       "                                 count\n",
       "sheet_name sheet_name_precedent       \n",
       "CALC_A_1   INPUT1                 10.0\n",
       "CALC_A_2   INPUT1                 10.0\n",
       "           INPUT2                 10.0\n",
       "CALC_A_3   CALC_A_1               10.0\n",
       "           CALC_A_2               10.0"
      ]
     },
     "execution_count": 13,
     "metadata": {},
     "output_type": "execute_result"
    }
   ],
   "source": [
    "precedent_sheets_count.head()"
   ]
  },
  {
   "cell_type": "code",
   "execution_count": 14,
   "metadata": {},
   "outputs": [],
   "source": [
    "# output\n",
    "ofp = sfp.with_name(f'{sfp.stem}_count.csv')\n",
    "precedent_sheets_count.to_csv(ofp)"
   ]
  }
 ],
 "metadata": {
  "kernelspec": {
   "display_name": "Python 3",
   "language": "python",
   "name": "python3"
  },
  "language_info": {
   "codemirror_mode": {
    "name": "ipython",
    "version": 3
   },
   "file_extension": ".py",
   "mimetype": "text/x-python",
   "name": "python",
   "nbconvert_exporter": "python",
   "pygments_lexer": "ipython3",
   "version": "3.7.3"
  }
 },
 "nbformat": 4,
 "nbformat_minor": 2
}
